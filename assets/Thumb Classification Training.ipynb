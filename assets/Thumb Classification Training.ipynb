{
  "cells": [
    {
      "cell_type": "markdown",
      "metadata": {
        "id": "phTR4tsK1NKJ"
      },
      "source": [
        "# Training of the model for Thumb Classification\n",
        "\n",
        "The goal of this notebook is to train a classification model that can detect thumb up and thumb down in video stream\n",
        "\n",
        "This notebook has been run on Google Colab to take advantage of the GPU.\n"
      ]
    },
    {
      "cell_type": "code",
      "execution_count": null,
      "metadata": {
        "id": "lYPj1I1xeScY"
      },
      "outputs": [],
      "source": [
        "import numpy as np \n",
        "import os \n",
        "import shutil \n",
        "from sklearn.model_selection import train_test_split\n",
        "from sklearn.metrics import classification_report, confusion_matrix\n",
        "\n",
        "import tensorflow as tf\n",
        "\n",
        "import keras\n",
        "from keras.preprocessing.image import ImageDataGenerator\n",
        "from keras import backend as K\n",
        "from keras.applications.vgg16 import VGG16\n",
        "from keras.applications.vgg16 import preprocess_input as preprocess_input_vgg\n",
        "from keras.layers import Dense, Dropout, Flatten\n",
        "from keras.models import Model\n",
        "from keras import optimizers\n",
        "from keras.models import load_model\n",
        "\n",
        "import seaborn as sns"
      ]
    },
    {
      "cell_type": "markdown",
      "metadata": {
        "id": "xYHyHnW66OM-"
      },
      "source": [
        "Define the three classification category"
      ]
    },
    {
      "cell_type": "code",
      "execution_count": 5,
      "metadata": {
        "id": "bDqwOq116Skb"
      },
      "outputs": [],
      "source": [
        "NB_CLASSES = 3\n",
        "THUMB_UP = '01'\n",
        "THUMB_DOWN = '02'\n",
        "OTHER = '03'\n",
        "PATH_TO_ZIP = '/content/DSTI_Python_Labs/assets/data_train'\n",
        "ZIP_FILE = 'thumbv3.zip'\n",
        "IMAGES_RAW = 'images_raw_thumb'\n",
        "IMAGES_SPLITED = 'images_keras_thumb'\n",
        "MODEL_FILE = 'model_thumb_v24112020.h5'\n",
        "SAVE_FOLDER = 'save_model_thumb'"
      ]
    },
    {
      "cell_type": "markdown",
      "metadata": {
        "id": "GoEbjHaeeScb"
      },
      "source": [
        "## Get the training data from the github repository"
      ]
    },
    {
      "cell_type": "code",
      "execution_count": 6,
      "metadata": {
        "colab": {
          "base_uri": "https://localhost:8080/"
        },
        "id": "6nikNsc0eScc",
        "outputId": "985fd1c4-978e-47e6-ebc1-72709e6c9d49"
      },
      "outputs": [
        {
          "name": "stdout",
          "output_type": "stream",
          "text": [
            "Cloning into 'DSTI_Python_Labs'...\n",
            "remote: Enumerating objects: 32, done.\u001b[K\n",
            "remote: Counting objects: 100% (32/32), done.\u001b[K\n",
            "remote: Compressing objects: 100% (23/23), done.\u001b[K\n",
            "remote: Total 6210 (delta 12), reused 23 (delta 8), pack-reused 6178\u001b[K\n",
            "Receiving objects: 100% (6210/6210), 402.70 MiB | 42.60 MiB/s, done.\n",
            "Resolving deltas: 100% (647/647), done.\n",
            "Checking out files: 100% (5906/5906), done.\n"
          ]
        }
      ],
      "source": [
        "!git clone https://github.com/EricKiennemann/DSTI_Python_Labs.git"
      ]
    },
    {
      "cell_type": "code",
      "execution_count": 7,
      "metadata": {
        "colab": {
          "base_uri": "https://localhost:8080/"
        },
        "id": "GozDiP5wAvtb",
        "outputId": "6488cf2e-d04e-40a2-9f6f-e33bd41e23d0"
      },
      "outputs": [
        {
          "name": "stdout",
          "output_type": "stream",
          "text": [
            "/content/DSTI_Python_Labs/flask/data_train\n"
          ]
        }
      ],
      "source": [
        "cd $PATH_TO_ZIP"
      ]
    },
    {
      "cell_type": "code",
      "execution_count": 8,
      "metadata": {
        "id": "2_9aeJdOTkqY"
      },
      "outputs": [],
      "source": [
        "!mkdir $IMAGES_RAW"
      ]
    },
    {
      "cell_type": "markdown",
      "metadata": {
        "id": "dwmsY_QL4sWz"
      },
      "source": [
        "**Unzip the file training data file locally locally**"
      ]
    },
    {
      "cell_type": "code",
      "execution_count": 9,
      "metadata": {
        "id": "BUwZi1q0mUhY"
      },
      "outputs": [],
      "source": [
        "import zipfile\n",
        "with zipfile.ZipFile(ZIP_FILE, 'r') as zip_ref:\n",
        "    zip_ref.extractall(IMAGES_RAW)"
      ]
    },
    {
      "cell_type": "code",
      "execution_count": 10,
      "metadata": {
        "colab": {
          "base_uri": "https://localhost:8080/"
        },
        "id": "iMVMAcL1UKSC",
        "outputId": "5b472a26-c85f-47ef-c251-10a29f276e01"
      },
      "outputs": [
        {
          "name": "stdout",
          "output_type": "stream",
          "text": [
            "01  02\t03\n"
          ]
        }
      ],
      "source": [
        "!ls $IMAGES_RAW"
      ]
    },
    {
      "cell_type": "markdown",
      "metadata": {
        "id": "Gj5Iz1LFeScf"
      },
      "source": [
        "## Prepare the files for the processing\n",
        "\n",
        "Split the files into three datasets (folders) :\n",
        "* \"train\" for training\n",
        "* \"valid\" for validation\n",
        "* \"test\" for test"
      ]
    },
    {
      "cell_type": "code",
      "execution_count": 11,
      "metadata": {
        "colab": {
          "base_uri": "https://localhost:8080/"
        },
        "id": "NNeBPS30eScg",
        "outputId": "048ce8a5-5977-4731-b8bc-f24745ed57dc"
      },
      "outputs": [
        {
          "name": "stdout",
          "output_type": "stream",
          "text": [
            "Number of Images in Training Directory is 517 for category 01\n",
            "Number of Images in Validation Directory is 103 for category 01\n",
            "Number of Images in Test Directory is 70 for category 01\n",
            "Number of Images in Training Directory is 593 for category 02\n",
            "Number of Images in Validation Directory is 118 for category 02\n",
            "Number of Images in Test Directory is 80 for category 02\n",
            "Number of Images in Training Directory is 260 for category 03\n",
            "Number of Images in Validation Directory is 52 for category 03\n",
            "Number of Images in Test Directory is 35 for category 03\n"
          ]
        }
      ],
      "source": [
        "def TrainValidTestFruit(category):\n",
        "\t# Path to the directory where the original dataset was uncompressed\n",
        "\toriginal_dataset_dir = IMAGES_RAW\n",
        "\n",
        "\t# Directory where the three datasets will be stored\n",
        "\tbase_dir = IMAGES_SPLITED\n",
        "\n",
        "\tos.mkdir(base_dir)\n",
        "\n",
        "\t# Directory for the training splits\n",
        "\ttrain_dir = os.path.join(base_dir, 'train')\n",
        "\tos.mkdir(train_dir)\n",
        "\n",
        "\t# Directory for the validation splits\n",
        "\tvalid_dir = os.path.join(base_dir, 'valid')\n",
        "\tos.mkdir(valid_dir)\n",
        "\n",
        "\t# Directory for the test splits\n",
        "\ttest_dir = os.path.join(base_dir, 'test')\n",
        "\tos.mkdir(test_dir)\n",
        "\n",
        "\tfor cat in category:\n",
        "\t\t# Directories for training categories\n",
        "\t\ttrain_category_dir = os.path.join(train_dir, cat)\n",
        "\t\tos.mkdir(train_category_dir)\n",
        "\n",
        "\t\t# Directories for validation categories\n",
        "\t\tvalid_category_dir = os.path.join(valid_dir, cat)\n",
        "\t\tos.mkdir(valid_category_dir)\n",
        "\n",
        "\t\t# Directories for test categories\n",
        "\t\ttest_category_dir = os.path.join(test_dir, cat)\n",
        "\t\tos.mkdir(test_category_dir)\n",
        "\n",
        "\t\tdata_folder = os.path.join(original_dataset_dir, cat)\n",
        "\t\tjpgfiles = os.listdir(data_folder)\n",
        "\n",
        "\t\tnb_images = len(jpgfiles)\n",
        "\t\ttrain_ratio = 0.75\t\t\t\t# 75% of files for training\n",
        "\t\tvalidation_ratio = 0.15\t\t# 15% of files for validation\n",
        "\t\ttest_ratio = 0.10\t\t\t\t\t# 10% of files for test\n",
        "\n",
        "\t\tdataX = np.arange(nb_images)\n",
        "\t\t# train is now 75% of the entire data set\n",
        "\t\tx_train, x_test = train_test_split(dataX, test_size=1 - train_ratio)\n",
        "\n",
        "\t\t# test is now 10% of the initial data set\n",
        "\t\t# validation is now 15% of the initial data set\n",
        "\t\tx_valid, x_test = train_test_split(x_test, test_size=test_ratio/(test_ratio + validation_ratio)) \n",
        "\n",
        "\t\t# Copy the train files \n",
        "\t\tfnames = [jpgfiles[i] for i in x_train]\n",
        "\t\tfor fname in fnames:\n",
        "\t\t\tsrc = os.path.join(original_dataset_dir, cat, fname)\n",
        "\t\t\tdst = os.path.join(train_category_dir, fname)\n",
        "\t\t\tshutil.copyfile(src, dst)\n",
        "\n",
        "\t\t# Copy the validation files \n",
        "\t\tfnames = [jpgfiles[i] for i in x_valid]\n",
        "\t\tfor fname in fnames:\n",
        "\t\t\tsrc = os.path.join(original_dataset_dir, cat, fname)\n",
        "\t\t\tdst = os.path.join(valid_category_dir, fname)\n",
        "\t\t\tshutil.copyfile(src, dst)\n",
        "\n",
        "\t\t# Copy the test files \n",
        "\t\tfnames = [jpgfiles[i] for i in x_test]\n",
        "\t\tfor fname in fnames:\n",
        "\t\t\tsrc = os.path.join(original_dataset_dir, cat, fname)\n",
        "\t\t\tdst = os.path.join(test_category_dir, fname)\n",
        "\t\t\tshutil.copyfile(src, dst)\n",
        "\n",
        "\n",
        "\t\t# Sanity Check to ensure that Training, Validation and Test Folders have the expected number of images\n",
        "\n",
        "\t\tprint('Number of Images in Training Directory is {} for category {}'.format(len(os.listdir(train_category_dir)),cat))\n",
        "\t\tprint('Number of Images in Validation Directory is {} for category {}'.format(len(os.listdir(valid_category_dir)),cat))\n",
        "\t\tprint('Number of Images in Test Directory is {} for category {}'.format(len(os.listdir(test_category_dir)),cat))\n",
        "\n",
        "# Run the creation of the three datasets on our three labels\n",
        "TrainValidTestFruit([THUMB_UP,THUMB_DOWN,OTHER])"
      ]
    },
    {
      "cell_type": "markdown",
      "metadata": {
        "id": "2iA1o5iRZ3Xj"
      },
      "source": [
        "The dataset is quit well balanced between 'thumb up' 517 images and 'thumb down' 593 images for training"
      ]
    },
    {
      "cell_type": "markdown",
      "metadata": {
        "id": "BTbCJ3LGeScn"
      },
      "source": [
        "## Building the Neural Network\n",
        "\n",
        "We'll be using VGG16 model and the corresponding preprocessing function for the input images."
      ]
    },
    {
      "cell_type": "code",
      "execution_count": 12,
      "metadata": {
        "colab": {
          "base_uri": "https://localhost:8080/"
        },
        "id": "gxEOSC_keScq",
        "outputId": "7b151dbf-f695-405a-cfc7-1e4c1a409b95"
      },
      "outputs": [
        {
          "name": "stdout",
          "output_type": "stream",
          "text": [
            "Downloading data from https://storage.googleapis.com/tensorflow/keras-applications/vgg16/vgg16_weights_tf_dim_ordering_tf_kernels_notop.h5\n",
            "58892288/58889256 [==============================] - 1s 0us/step\n",
            "Model: \"vgg16\"\n",
            "_________________________________________________________________\n",
            "Layer (type)                 Output Shape              Param #   \n",
            "=================================================================\n",
            "input_1 (InputLayer)         [(None, 224, 224, 3)]     0         \n",
            "_________________________________________________________________\n",
            "block1_conv1 (Conv2D)        (None, 224, 224, 64)      1792      \n",
            "_________________________________________________________________\n",
            "block1_conv2 (Conv2D)        (None, 224, 224, 64)      36928     \n",
            "_________________________________________________________________\n",
            "block1_pool (MaxPooling2D)   (None, 112, 112, 64)      0         \n",
            "_________________________________________________________________\n",
            "block2_conv1 (Conv2D)        (None, 112, 112, 128)     73856     \n",
            "_________________________________________________________________\n",
            "block2_conv2 (Conv2D)        (None, 112, 112, 128)     147584    \n",
            "_________________________________________________________________\n",
            "block2_pool (MaxPooling2D)   (None, 56, 56, 128)       0         \n",
            "_________________________________________________________________\n",
            "block3_conv1 (Conv2D)        (None, 56, 56, 256)       295168    \n",
            "_________________________________________________________________\n",
            "block3_conv2 (Conv2D)        (None, 56, 56, 256)       590080    \n",
            "_________________________________________________________________\n",
            "block3_conv3 (Conv2D)        (None, 56, 56, 256)       590080    \n",
            "_________________________________________________________________\n",
            "block3_pool (MaxPooling2D)   (None, 28, 28, 256)       0         \n",
            "_________________________________________________________________\n",
            "block4_conv1 (Conv2D)        (None, 28, 28, 512)       1180160   \n",
            "_________________________________________________________________\n",
            "block4_conv2 (Conv2D)        (None, 28, 28, 512)       2359808   \n",
            "_________________________________________________________________\n",
            "block4_conv3 (Conv2D)        (None, 28, 28, 512)       2359808   \n",
            "_________________________________________________________________\n",
            "block4_pool (MaxPooling2D)   (None, 14, 14, 512)       0         \n",
            "_________________________________________________________________\n",
            "block5_conv1 (Conv2D)        (None, 14, 14, 512)       2359808   \n",
            "_________________________________________________________________\n",
            "block5_conv2 (Conv2D)        (None, 14, 14, 512)       2359808   \n",
            "_________________________________________________________________\n",
            "block5_conv3 (Conv2D)        (None, 14, 14, 512)       2359808   \n",
            "_________________________________________________________________\n",
            "block5_pool (MaxPooling2D)   (None, 7, 7, 512)         0         \n",
            "=================================================================\n",
            "Total params: 14,714,688\n",
            "Trainable params: 14,714,688\n",
            "Non-trainable params: 0\n",
            "_________________________________________________________________\n"
          ]
        }
      ],
      "source": [
        "# include_top=false => we only take the convolutional part not the classification part.\n",
        "# The image standard size is (224,224)\n",
        "base_model = VGG16(include_top=False, weights='imagenet', input_shape = (224,224,3))\n",
        "base_model.summary()"
      ]
    },
    {
      "cell_type": "markdown",
      "metadata": {
        "id": "i3RonFg9eScs"
      },
      "source": [
        "Note that we have downloaded only a convolution part of the neural network. Let's add some dense layers on top of it.  \n",
        "I choose a sigmoid activation in order to be able to dect more easelly when there is \"nothing\" in the screen. If the probability for both 'thumb up' and 'thumb down' are low it is likely that there is no thumb on the screen"
      ]
    },
    {
      "cell_type": "code",
      "execution_count": 13,
      "metadata": {
        "id": "KCIKc-S_eScv"
      },
      "outputs": [],
      "source": [
        "flatten = Flatten()(base_model.output)\n",
        "dropout_1 = Dropout(0.25)(flatten)\n",
        "fc_1 = Dense(128)(dropout_1)\n",
        "dropout_2 = Dropout(0.5)(fc_1)\n",
        "predictions = Dense(NB_CLASSES, activation=\"sigmoid\", name='predictions')(dropout_2)"
      ]
    },
    {
      "cell_type": "code",
      "execution_count": 14,
      "metadata": {
        "id": "RrKIyWb8eScx"
      },
      "outputs": [],
      "source": [
        "model = Model(base_model.input, predictions)"
      ]
    },
    {
      "cell_type": "markdown",
      "metadata": {
        "id": "gh-3rJpkUMQR"
      },
      "source": [
        "**The final model structure**"
      ]
    },
    {
      "cell_type": "code",
      "execution_count": 15,
      "metadata": {
        "colab": {
          "base_uri": "https://localhost:8080/"
        },
        "id": "N54508MveScz",
        "outputId": "02e3c9c1-d96b-4435-a2d2-73935bb02b7d"
      },
      "outputs": [
        {
          "name": "stdout",
          "output_type": "stream",
          "text": [
            "Model: \"functional_1\"\n",
            "_________________________________________________________________\n",
            "Layer (type)                 Output Shape              Param #   \n",
            "=================================================================\n",
            "input_1 (InputLayer)         [(None, 224, 224, 3)]     0         \n",
            "_________________________________________________________________\n",
            "block1_conv1 (Conv2D)        (None, 224, 224, 64)      1792      \n",
            "_________________________________________________________________\n",
            "block1_conv2 (Conv2D)        (None, 224, 224, 64)      36928     \n",
            "_________________________________________________________________\n",
            "block1_pool (MaxPooling2D)   (None, 112, 112, 64)      0         \n",
            "_________________________________________________________________\n",
            "block2_conv1 (Conv2D)        (None, 112, 112, 128)     73856     \n",
            "_________________________________________________________________\n",
            "block2_conv2 (Conv2D)        (None, 112, 112, 128)     147584    \n",
            "_________________________________________________________________\n",
            "block2_pool (MaxPooling2D)   (None, 56, 56, 128)       0         \n",
            "_________________________________________________________________\n",
            "block3_conv1 (Conv2D)        (None, 56, 56, 256)       295168    \n",
            "_________________________________________________________________\n",
            "block3_conv2 (Conv2D)        (None, 56, 56, 256)       590080    \n",
            "_________________________________________________________________\n",
            "block3_conv3 (Conv2D)        (None, 56, 56, 256)       590080    \n",
            "_________________________________________________________________\n",
            "block3_pool (MaxPooling2D)   (None, 28, 28, 256)       0         \n",
            "_________________________________________________________________\n",
            "block4_conv1 (Conv2D)        (None, 28, 28, 512)       1180160   \n",
            "_________________________________________________________________\n",
            "block4_conv2 (Conv2D)        (None, 28, 28, 512)       2359808   \n",
            "_________________________________________________________________\n",
            "block4_conv3 (Conv2D)        (None, 28, 28, 512)       2359808   \n",
            "_________________________________________________________________\n",
            "block4_pool (MaxPooling2D)   (None, 14, 14, 512)       0         \n",
            "_________________________________________________________________\n",
            "block5_conv1 (Conv2D)        (None, 14, 14, 512)       2359808   \n",
            "_________________________________________________________________\n",
            "block5_conv2 (Conv2D)        (None, 14, 14, 512)       2359808   \n",
            "_________________________________________________________________\n",
            "block5_conv3 (Conv2D)        (None, 14, 14, 512)       2359808   \n",
            "_________________________________________________________________\n",
            "block5_pool (MaxPooling2D)   (None, 7, 7, 512)         0         \n",
            "_________________________________________________________________\n",
            "flatten (Flatten)            (None, 25088)             0         \n",
            "_________________________________________________________________\n",
            "dropout (Dropout)            (None, 25088)             0         \n",
            "_________________________________________________________________\n",
            "dense (Dense)                (None, 128)               3211392   \n",
            "_________________________________________________________________\n",
            "dropout_1 (Dropout)          (None, 128)               0         \n",
            "_________________________________________________________________\n",
            "predictions (Dense)          (None, 3)                 387       \n",
            "=================================================================\n",
            "Total params: 17,926,467\n",
            "Trainable params: 17,926,467\n",
            "Non-trainable params: 0\n",
            "_________________________________________________________________\n"
          ]
        }
      ],
      "source": [
        "model.summary()"
      ]
    },
    {
      "cell_type": "markdown",
      "metadata": {
        "id": "4jIlvemneSc2"
      },
      "source": [
        "**Chosing the optimizer parameters and compiling the model**  \n",
        "Categorical crossentropy is choosen for this multi label classification problem"
      ]
    },
    {
      "cell_type": "code",
      "execution_count": 16,
      "metadata": {
        "id": "rlN5Q7OveSc5"
      },
      "outputs": [],
      "source": [
        "loss = 'categorical_crossentropy'\n",
        "learning_rate = 0.001\n",
        "optimizer = optimizers.SGD ## optimizers.SGD \n",
        "metrics = ['accuracy']"
      ]
    },
    {
      "cell_type": "code",
      "execution_count": 17,
      "metadata": {
        "id": "3NAfP8ULeSc7"
      },
      "outputs": [],
      "source": [
        "model.compile(loss=loss,\n",
        "              optimizer=optimizer(learning_rate),\n",
        "              metrics=metrics)\n"
      ]
    },
    {
      "cell_type": "markdown",
      "metadata": {
        "id": "vsMwxsnIeSc9"
      },
      "source": [
        "## Data preparation\n",
        "We will do data augmentation in order to have more data for the training.\n",
        "We apply :\n",
        "* rotation\n",
        "* width shift\n",
        "* height shift\n"
      ]
    },
    {
      "cell_type": "code",
      "execution_count": 18,
      "metadata": {
        "id": "LNsJQ1mteSc_"
      },
      "outputs": [],
      "source": [
        "train_dir = os.path.join(IMAGES_SPLITED, \"train\")\n",
        "val_dir = os.path.join(IMAGES_SPLITED, \"valid\")\n",
        "test_dir = os.path.join(IMAGES_SPLITED, \"test\")"
      ]
    },
    {
      "cell_type": "code",
      "execution_count": 19,
      "metadata": {
        "id": "wj8qfSmFeSdC"
      },
      "outputs": [],
      "source": [
        "# we'll resize images in correspondance to network input size\n",
        "image_size = (224,224)"
      ]
    },
    {
      "cell_type": "code",
      "execution_count": 20,
      "metadata": {
        "colab": {
          "base_uri": "https://localhost:8080/"
        },
        "id": "7NWtfjX4eSdE",
        "outputId": "e37c8a15-deb2-4716-a558-50e1d8b0ea6f"
      },
      "outputs": [
        {
          "name": "stdout",
          "output_type": "stream",
          "text": [
            "Found 1370 images belonging to 3 classes.\n",
            "Found 273 images belonging to 3 classes.\n"
          ]
        }
      ],
      "source": [
        "# apply some data augmentation\n",
        "#\n",
        "train_datagen = ImageDataGenerator(rotation_range=15,\n",
        "                                   width_shift_range=0.2,\n",
        "                                   height_shift_range=0.2,\n",
        "                                   fill_mode='nearest',\n",
        "                                   preprocessing_function=preprocess_input_vgg\n",
        "                                  )\n",
        "\n",
        "validation_datagen = ImageDataGenerator(preprocessing_function=preprocess_input_vgg) # for validation we don't need to augment\n",
        "\n",
        "train_batchsize = 40\n",
        "val_batchsize = 40\n",
        "\n",
        "# this function takes images from folders and feeds to Imagedatagenerator\n",
        "train_generator = train_datagen.flow_from_directory( \n",
        "        train_dir,\n",
        "        target_size=image_size,\n",
        "        batch_size=train_batchsize,\n",
        "        class_mode='categorical')\n",
        " \n",
        "validation_generator = validation_datagen.flow_from_directory(\n",
        "        val_dir,\n",
        "        target_size=image_size,\n",
        "        batch_size=val_batchsize,\n",
        "        class_mode='categorical',\n",
        "        shuffle=False)"
      ]
    },
    {
      "cell_type": "markdown",
      "metadata": {
        "id": "u4kh8Im0Zg9M"
      },
      "source": [
        "**The data generation is only applied to the train dataset**\n",
        "\n",
        "We do have 1370 images for training (without data augmentation) and 273 images for validation"
      ]
    },
    {
      "cell_type": "markdown",
      "metadata": {
        "id": "1svgQ-iHeSdI"
      },
      "source": [
        "## Model training\n",
        "\n",
        "Starting with a number of epoch equal to 100"
      ]
    },
    {
      "cell_type": "code",
      "execution_count": 21,
      "metadata": {
        "id": "rANG4-YdeSdI"
      },
      "outputs": [],
      "source": [
        "epochs = 60"
      ]
    },
    {
      "cell_type": "code",
      "execution_count": 22,
      "metadata": {
        "id": "B8sDL64PeSdL"
      },
      "outputs": [],
      "source": [
        "nb_train_steps = train_generator.samples // train_generator.batch_size\n",
        "nb_val_steps = validation_generator.samples // validation_generator.batch_size"
      ]
    },
    {
      "cell_type": "code",
      "execution_count": 23,
      "metadata": {
        "colab": {
          "base_uri": "https://localhost:8080/"
        },
        "id": "F631Er62eSdR",
        "outputId": "4dd32753-3df2-41a2-cc35-f7d54a1451c0"
      },
      "outputs": [
        {
          "name": "stdout",
          "output_type": "stream",
          "text": [
            "WARNING:tensorflow:From <ipython-input-23-ba9885158e4d>:7: Model.fit_generator (from tensorflow.python.keras.engine.training) is deprecated and will be removed in a future version.\n",
            "Instructions for updating:\n",
            "Please use Model.fit, which supports generators.\n",
            "Epoch 1/60\n",
            " 2/34 [>.............................] - ETA: 8s - loss: 4.9629 - accuracy: 0.3500WARNING:tensorflow:Callbacks method `on_train_batch_end` is slow compared to the batch time (batch time: 0.1587s vs `on_train_batch_end` time: 0.3515s). Check your callbacks.\n",
            "34/34 [==============================] - 23s 679ms/step - loss: 1.2076 - accuracy: 0.4203 - val_loss: 0.7347 - val_accuracy: 0.4333\n",
            "Epoch 2/60\n",
            "34/34 [==============================] - 22s 647ms/step - loss: 0.8235 - accuracy: 0.4707 - val_loss: 0.6795 - val_accuracy: 0.5708\n",
            "Epoch 3/60\n",
            "34/34 [==============================] - 22s 654ms/step - loss: 0.7335 - accuracy: 0.5985 - val_loss: 0.4132 - val_accuracy: 0.9667\n",
            "Epoch 4/60\n",
            "34/34 [==============================] - 22s 656ms/step - loss: 0.5907 - accuracy: 0.7955 - val_loss: 0.3417 - val_accuracy: 0.9625\n",
            "Epoch 5/60\n",
            "34/34 [==============================] - 22s 649ms/step - loss: 0.1732 - accuracy: 0.9632 - val_loss: 0.0058 - val_accuracy: 1.0000\n",
            "Epoch 6/60\n",
            "34/34 [==============================] - 22s 644ms/step - loss: 0.2458 - accuracy: 0.9729 - val_loss: 0.0122 - val_accuracy: 1.0000\n",
            "Epoch 7/60\n",
            "34/34 [==============================] - 22s 658ms/step - loss: 0.2231 - accuracy: 0.9507 - val_loss: 0.0340 - val_accuracy: 0.9917\n",
            "Epoch 8/60\n",
            "34/34 [==============================] - 22s 648ms/step - loss: 0.0689 - accuracy: 0.9850 - val_loss: 0.0057 - val_accuracy: 0.9958\n",
            "Epoch 9/60\n",
            "34/34 [==============================] - 22s 646ms/step - loss: 0.0520 - accuracy: 0.9902 - val_loss: 0.0058 - val_accuracy: 1.0000\n",
            "Epoch 10/60\n",
            "34/34 [==============================] - 22s 646ms/step - loss: 0.0811 - accuracy: 0.9917 - val_loss: 0.0036 - val_accuracy: 1.0000\n",
            "Epoch 11/60\n",
            "34/34 [==============================] - 22s 648ms/step - loss: 0.0322 - accuracy: 0.9932 - val_loss: 0.0029 - val_accuracy: 0.9958\n",
            "Epoch 12/60\n",
            "34/34 [==============================] - 22s 650ms/step - loss: 0.0280 - accuracy: 0.9955 - val_loss: 0.0029 - val_accuracy: 0.9958\n",
            "Epoch 13/60\n",
            "34/34 [==============================] - 22s 654ms/step - loss: 0.0270 - accuracy: 0.9956 - val_loss: 0.0029 - val_accuracy: 1.0000\n",
            "Epoch 14/60\n",
            "34/34 [==============================] - 22s 645ms/step - loss: 0.0365 - accuracy: 0.9932 - val_loss: 0.0039 - val_accuracy: 1.0000\n",
            "Epoch 15/60\n",
            "34/34 [==============================] - 22s 647ms/step - loss: 0.0087 - accuracy: 0.9985 - val_loss: 0.0029 - val_accuracy: 1.0000\n",
            "Epoch 16/60\n",
            "34/34 [==============================] - 22s 645ms/step - loss: 0.0212 - accuracy: 0.9962 - val_loss: 0.0029 - val_accuracy: 1.0000\n",
            "Epoch 17/60\n",
            "34/34 [==============================] - 22s 646ms/step - loss: 0.0090 - accuracy: 0.9977 - val_loss: 0.0029 - val_accuracy: 1.0000\n",
            "Epoch 18/60\n",
            "34/34 [==============================] - 22s 656ms/step - loss: 0.0246 - accuracy: 0.9970 - val_loss: 0.0029 - val_accuracy: 1.0000\n",
            "Epoch 19/60\n",
            "34/34 [==============================] - 22s 656ms/step - loss: 0.0182 - accuracy: 0.9977 - val_loss: 0.0029 - val_accuracy: 1.0000\n",
            "Epoch 20/60\n",
            "34/34 [==============================] - 22s 655ms/step - loss: 0.0022 - accuracy: 1.0000 - val_loss: 0.0029 - val_accuracy: 1.0000\n",
            "Epoch 21/60\n",
            "34/34 [==============================] - 22s 650ms/step - loss: 0.0770 - accuracy: 0.9932 - val_loss: 0.0029 - val_accuracy: 1.0000\n",
            "Epoch 22/60\n",
            "34/34 [==============================] - 22s 649ms/step - loss: 0.0156 - accuracy: 0.9970 - val_loss: 0.0029 - val_accuracy: 0.9958\n",
            "Epoch 23/60\n",
            "34/34 [==============================] - 22s 646ms/step - loss: 0.0154 - accuracy: 0.9977 - val_loss: 0.0027 - val_accuracy: 1.0000\n",
            "Epoch 24/60\n",
            "34/34 [==============================] - 22s 647ms/step - loss: 0.0186 - accuracy: 0.9970 - val_loss: 0.0028 - val_accuracy: 1.0000\n",
            "Epoch 25/60\n",
            "34/34 [==============================] - 22s 647ms/step - loss: 0.0294 - accuracy: 0.9970 - val_loss: 2.8472e-05 - val_accuracy: 1.0000\n",
            "Epoch 26/60\n",
            "34/34 [==============================] - 22s 647ms/step - loss: 0.0079 - accuracy: 0.9977 - val_loss: 0.0023 - val_accuracy: 1.0000\n",
            "Epoch 27/60\n",
            "34/34 [==============================] - 22s 645ms/step - loss: 0.0145 - accuracy: 0.9992 - val_loss: 0.0024 - val_accuracy: 1.0000\n",
            "Epoch 28/60\n",
            "34/34 [==============================] - 22s 646ms/step - loss: 0.0123 - accuracy: 0.9992 - val_loss: 0.0029 - val_accuracy: 1.0000\n",
            "Epoch 29/60\n",
            "34/34 [==============================] - 22s 645ms/step - loss: 0.0034 - accuracy: 0.9977 - val_loss: 0.0029 - val_accuracy: 1.0000\n",
            "Epoch 30/60\n",
            "34/34 [==============================] - 22s 646ms/step - loss: 0.0498 - accuracy: 0.9955 - val_loss: 0.0029 - val_accuracy: 1.0000\n",
            "Epoch 31/60\n",
            "34/34 [==============================] - 22s 645ms/step - loss: 0.0087 - accuracy: 0.9992 - val_loss: 0.0028 - val_accuracy: 1.0000\n",
            "Epoch 32/60\n",
            "34/34 [==============================] - 22s 648ms/step - loss: 0.0062 - accuracy: 0.9992 - val_loss: 7.6904e-04 - val_accuracy: 1.0000\n",
            "Epoch 33/60\n",
            "34/34 [==============================] - 23s 663ms/step - loss: 0.0027 - accuracy: 1.0000 - val_loss: 2.5239e-04 - val_accuracy: 1.0000\n",
            "Epoch 34/60\n",
            "34/34 [==============================] - 23s 667ms/step - loss: 0.0052 - accuracy: 0.9992 - val_loss: 0.0013 - val_accuracy: 1.0000\n",
            "Epoch 35/60\n",
            "34/34 [==============================] - 22s 659ms/step - loss: 0.0038 - accuracy: 0.9992 - val_loss: 0.0023 - val_accuracy: 1.0000\n",
            "Epoch 36/60\n",
            "34/34 [==============================] - 22s 652ms/step - loss: 0.0042 - accuracy: 1.0000 - val_loss: 5.4976e-04 - val_accuracy: 1.0000\n",
            "Epoch 37/60\n",
            "34/34 [==============================] - 22s 651ms/step - loss: 0.0019 - accuracy: 0.9992 - val_loss: 0.0013 - val_accuracy: 1.0000\n",
            "Epoch 38/60\n",
            "34/34 [==============================] - 22s 647ms/step - loss: 0.0011 - accuracy: 0.9992 - val_loss: 0.0012 - val_accuracy: 1.0000\n",
            "Epoch 39/60\n",
            "34/34 [==============================] - 22s 650ms/step - loss: 0.0027 - accuracy: 0.9992 - val_loss: 0.0017 - val_accuracy: 1.0000\n",
            "Epoch 40/60\n",
            "34/34 [==============================] - 22s 651ms/step - loss: 1.8436e-04 - accuracy: 1.0000 - val_loss: 0.0014 - val_accuracy: 1.0000\n",
            "Epoch 41/60\n",
            "34/34 [==============================] - 22s 647ms/step - loss: 0.0065 - accuracy: 0.9977 - val_loss: 2.7732e-05 - val_accuracy: 1.0000\n",
            "Epoch 42/60\n",
            "34/34 [==============================] - 22s 645ms/step - loss: 9.4181e-04 - accuracy: 1.0000 - val_loss: 5.1603e-04 - val_accuracy: 1.0000\n",
            "Epoch 43/60\n",
            "34/34 [==============================] - 22s 645ms/step - loss: 0.0031 - accuracy: 0.9985 - val_loss: 1.6579e-05 - val_accuracy: 1.0000\n",
            "Epoch 44/60\n",
            "34/34 [==============================] - 22s 648ms/step - loss: 0.0016 - accuracy: 0.9992 - val_loss: 2.3545e-05 - val_accuracy: 1.0000\n",
            "Epoch 45/60\n",
            "34/34 [==============================] - 22s 646ms/step - loss: 0.0138 - accuracy: 0.9992 - val_loss: 4.7671e-05 - val_accuracy: 1.0000\n",
            "Epoch 46/60\n",
            "34/34 [==============================] - 22s 647ms/step - loss: 0.0074 - accuracy: 0.9977 - val_loss: 0.0029 - val_accuracy: 1.0000\n",
            "Epoch 47/60\n",
            "34/34 [==============================] - 22s 650ms/step - loss: 0.0014 - accuracy: 0.9992 - val_loss: 0.0029 - val_accuracy: 1.0000\n",
            "Epoch 48/60\n",
            "34/34 [==============================] - 22s 651ms/step - loss: 0.0027 - accuracy: 0.9992 - val_loss: 0.0029 - val_accuracy: 1.0000\n",
            "Epoch 49/60\n",
            "34/34 [==============================] - 22s 647ms/step - loss: 1.7261e-05 - accuracy: 1.0000 - val_loss: 0.0029 - val_accuracy: 1.0000\n",
            "Epoch 50/60\n",
            "34/34 [==============================] - 22s 644ms/step - loss: 0.0136 - accuracy: 0.9992 - val_loss: 0.0029 - val_accuracy: 1.0000\n",
            "Epoch 51/60\n",
            "34/34 [==============================] - 22s 647ms/step - loss: 6.8192e-04 - accuracy: 1.0000 - val_loss: 0.0029 - val_accuracy: 1.0000\n",
            "Epoch 52/60\n",
            "34/34 [==============================] - 22s 646ms/step - loss: 0.0018 - accuracy: 1.0000 - val_loss: 0.0028 - val_accuracy: 1.0000\n",
            "Epoch 53/60\n",
            "34/34 [==============================] - 22s 647ms/step - loss: 0.0030 - accuracy: 0.9985 - val_loss: 0.0017 - val_accuracy: 1.0000\n",
            "Epoch 54/60\n",
            "34/34 [==============================] - 22s 650ms/step - loss: 0.0014 - accuracy: 1.0000 - val_loss: 0.0024 - val_accuracy: 1.0000\n",
            "Epoch 55/60\n",
            "34/34 [==============================] - 22s 643ms/step - loss: 0.0017 - accuracy: 1.0000 - val_loss: 0.0026 - val_accuracy: 1.0000\n",
            "Epoch 56/60\n",
            "34/34 [==============================] - 22s 647ms/step - loss: 0.0023 - accuracy: 0.9992 - val_loss: 0.0011 - val_accuracy: 1.0000\n",
            "Epoch 57/60\n",
            "34/34 [==============================] - 22s 651ms/step - loss: 0.0020 - accuracy: 0.9985 - val_loss: 0.0028 - val_accuracy: 1.0000\n",
            "Epoch 58/60\n",
            "34/34 [==============================] - 22s 649ms/step - loss: 5.6073e-04 - accuracy: 1.0000 - val_loss: 0.0028 - val_accuracy: 1.0000\n",
            "Epoch 59/60\n",
            "34/34 [==============================] - 22s 644ms/step - loss: 0.0011 - accuracy: 0.9992 - val_loss: 0.0028 - val_accuracy: 1.0000\n",
            "Epoch 60/60\n",
            "34/34 [==============================] - 22s 647ms/step - loss: 0.0028 - accuracy: 0.9992 - val_loss: 0.0022 - val_accuracy: 1.0000\n"
          ]
        }
      ],
      "source": [
        "history = model.fit_generator(\n",
        "      train_generator,\n",
        "      steps_per_epoch=nb_train_steps,\n",
        "      epochs=epochs,\n",
        "      validation_data=validation_generator,\n",
        "      validation_steps=nb_val_steps,\n",
        "      verbose=1, #0\n",
        ")"
      ]
    },
    {
      "cell_type": "markdown",
      "metadata": {
        "id": "qJMbTdPjkFw4"
      },
      "source": [
        "**The accuracy for training and validation dataset are good**"
      ]
    },
    {
      "cell_type": "code",
      "execution_count": 24,
      "metadata": {
        "colab": {
          "base_uri": "https://localhost:8080/"
        },
        "id": "QbCByQ09eSdT",
        "outputId": "9fef8f76-9e83-4b36-cfaf-761a54a7a071"
      },
      "outputs": [
        {
          "name": "stdout",
          "output_type": "stream",
          "text": [
            "training acc.: 0.9992481470108032\n",
            "val acc.: 1.0\n"
          ]
        }
      ],
      "source": [
        "print('training acc.:',history.history['accuracy'][-1])\n",
        "print('val acc.:', (history.history['val_accuracy'])[-1])"
      ]
    },
    {
      "cell_type": "code",
      "execution_count": 37,
      "metadata": {
        "id": "xUbDqvBgeSdW"
      },
      "outputs": [],
      "source": [
        "import matplotlib.pyplot as plt\n",
        "%matplotlib inline\n",
        "def plot_history(history):\n",
        "    plt.figure(figsize=(12,6))\n",
        "    plt.subplot(1,2,1)\n",
        "    plt.xlabel('Epoch')\n",
        "    plt.ylabel('Accuracy %')\n",
        "    plt.plot(history.epoch, np.array(history.history['accuracy']),\n",
        "    label='Train Accuracy')\n",
        "    plt.plot(history.epoch, np.array(history.history['val_accuracy']),\n",
        "    label = 'Val Accuracy')\n",
        "    plt.legend()\n",
        "    plt.title('Accuracy for train and validation')\n",
        "    plt.ylim([0, 1.1])\n",
        "    plt.subplot(1,2,2)\n",
        "    plt.xlabel('Epoch')\n",
        "    plt.ylabel('loss')\n",
        "    plt.plot(history.epoch, np.array(history.history['loss']),\n",
        "    label='Train Loss')\n",
        "    plt.plot(history.epoch, np.array(history.history['val_loss']),\n",
        "    label = 'Validation Loss')\n",
        "    plt.legend()\n",
        "    plt.title('Loss for train and validation')\n",
        "    plt.show()"
      ]
    },
    {
      "cell_type": "code",
      "execution_count": 38,
      "metadata": {
        "colab": {
          "base_uri": "https://localhost:8080/",
          "height": 404
        },
        "id": "U_uEY2IYeSdY",
        "outputId": "ff20d38c-62b7-4694-d616-80b5ec916c61"
      },
      "outputs": [
        {
          "data": {
            "image/png": "[encoded data removed]",
            "text/plain": [
              "<Figure size 864x432 with 2 Axes>"
            ]
          },
          "metadata": {
            "needs_background": "light",
            "tags": []
          },
          "output_type": "display_data"
        }
      ],
      "source": [
        "plot_history(history)"
      ]
    },
    {
      "cell_type": "markdown",
      "metadata": {
        "id": "mDHG_-PReSda"
      },
      "source": [
        "## Saving model\n",
        "\n",
        "The model is saved to be used in the back end part of the web application"
      ]
    },
    {
      "cell_type": "code",
      "execution_count": 27,
      "metadata": {
        "id": "rJwoycSceSdb"
      },
      "outputs": [],
      "source": [
        "os.makedirs(SAVE_FOLDER, exist_ok=True)"
      ]
    },
    {
      "cell_type": "code",
      "execution_count": 28,
      "metadata": {
        "id": "zTxpe7VqeSde"
      },
      "outputs": [],
      "source": [
        "model_path = os.path.join(SAVE_FOLDER, MODEL_FILE)"
      ]
    },
    {
      "cell_type": "code",
      "execution_count": 29,
      "metadata": {
        "id": "BA-0riSMeSdh"
      },
      "outputs": [],
      "source": [
        "model.save(model_path)"
      ]
    },
    {
      "cell_type": "markdown",
      "metadata": {
        "id": "NQWvNsPseSdj"
      },
      "source": [
        "## Final test on the test Dataset"
      ]
    },
    {
      "cell_type": "code",
      "execution_count": 30,
      "metadata": {
        "id": "bVa1mULOeSdl"
      },
      "outputs": [],
      "source": [
        "model = load_model(model_path)"
      ]
    },
    {
      "cell_type": "markdown",
      "metadata": {
        "id": "XkuwLmLUozYh"
      },
      "source": [
        "Apply the same preprocessing on the images as for validation dataset"
      ]
    },
    {
      "cell_type": "code",
      "execution_count": 31,
      "metadata": {
        "id": "6gHBUIT1eSdu"
      },
      "outputs": [],
      "source": [
        "test_datagen = ImageDataGenerator(preprocessing_function=preprocess_input_vgg) "
      ]
    },
    {
      "cell_type": "markdown",
      "metadata": {
        "id": "XYvsmjhvpAQX"
      },
      "source": [
        "Realize the prediction"
      ]
    },
    {
      "cell_type": "code",
      "execution_count": 32,
      "metadata": {
        "colab": {
          "base_uri": "https://localhost:8080/"
        },
        "id": "u43VYZXgeSdw",
        "outputId": "45678e95-cb58-48be-d3f4-cd08685c3ad9"
      },
      "outputs": [
        {
          "name": "stdout",
          "output_type": "stream",
          "text": [
            "Found 185 images belonging to 3 classes.\n"
          ]
        }
      ],
      "source": [
        "test_generator = test_datagen.flow_from_directory(\n",
        "        test_dir,\n",
        "        target_size=image_size,\n",
        "        shuffle = False,\n",
        "        class_mode='categorical',\n",
        "        batch_size=1)\n",
        "\n",
        "filenames = test_generator.filenames\n",
        "nb_samples = len(filenames)\n",
        "\n",
        "predict = model.predict(test_generator,steps=nb_samples)"
      ]
    },
    {
      "cell_type": "markdown",
      "metadata": {
        "id": "dbDXkFyCpH4V"
      },
      "source": [
        "The prediction has been done for 185 images"
      ]
    },
    {
      "cell_type": "markdown",
      "metadata": {
        "id": "mYog3wLupaST"
      },
      "source": [
        "**See the result of the prediction**"
      ]
    },
    {
      "cell_type": "code",
      "execution_count": 33,
      "metadata": {
        "id": "H2_BVlX-pflo"
      },
      "outputs": [],
      "source": [
        "def show_classification_confusion_matrix(y_valid,y_fit,list_classes):\n",
        "  print(classification_report(y_valid, y_fit,\n",
        "                            target_names = list_classes))\n",
        "  mat = confusion_matrix(y_valid, y_fit)\n",
        "  sns.heatmap(mat.T, square=True, annot=True, fmt='d', cbar=False,\n",
        "            xticklabels=list_classes,\n",
        "            yticklabels=list_classes)\n",
        "  plt.xlabel('true label')\n",
        "  plt.ylabel('predicted label')\n"
      ]
    },
    {
      "cell_type": "code",
      "execution_count": 34,
      "metadata": {
        "colab": {
          "base_uri": "https://localhost:8080/",
          "height": 447
        },
        "id": "kK1zDpFteSdy",
        "outputId": "1bfad3c3-2169-4e3a-a485-f60d13b01ca3"
      },
      "outputs": [
        {
          "name": "stdout",
          "output_type": "stream",
          "text": [
            "              precision    recall  f1-score   support\n",
            "\n",
            "          01       1.00      1.00      1.00        70\n",
            "          02       1.00      1.00      1.00        80\n",
            "          03       1.00      1.00      1.00        35\n",
            "\n",
            "    accuracy                           1.00       185\n",
            "   macro avg       1.00      1.00      1.00       185\n",
            "weighted avg       1.00      1.00      1.00       185\n",
            "\n"
          ]
        },
        {
          "data": {
            "image/png": "[encoded data removed]",
            "text/plain": [
              "<Figure size 432x288 with 1 Axes>"
            ]
          },
          "metadata": {
            "needs_background": "light",
            "tags": []
          },
          "output_type": "display_data"
        }
      ],
      "source": [
        "# choose the higher probability as the best prediction\n",
        "y_pred = np.argmax(predict, axis=1)\n",
        "classes = [\"{:02d}\".format(i) for i in range(1, 4)]\n",
        "\n",
        "show_classification_confusion_matrix(test_generator.classes,y_pred,classes)"
      ]
    },
    {
      "cell_type": "markdown",
      "metadata": {
        "id": "xeIo27TyqazC"
      },
      "source": [
        "**All the images has been correctly predicted**\n",
        "\n",
        "**The model is kept and will be use for the web application**"
      ]
    },
    {
      "cell_type": "markdown",
      "metadata": {
        "id": "t3vEgReKqyUX"
      },
      "source": [
        "## Store the model file on a google account"
      ]
    },
    {
      "cell_type": "code",
      "execution_count": 36,
      "metadata": {
        "colab": {
          "base_uri": "https://localhost:8080/"
        },
        "id": "vU8KDPZGqoOo",
        "outputId": "0beaeca6-76a3-47f1-9476-e19c94bbf928"
      },
      "outputs": [
        {
          "name": "stdout",
          "output_type": "stream",
          "text": [
            "Mounted at /content/gdrive\n"
          ]
        }
      ],
      "source": [
        "from google.colab import drive\n",
        "drive.mount('/content/gdrive')"
      ]
    },
    {
      "cell_type": "code",
      "execution_count": null,
      "metadata": {
        "id": "ArDwLMxzrBgO"
      },
      "outputs": [],
      "source": [
        "%cp $model_path ../../../gdrive/'My Drive'"
      ]
    }
  ],
  "metadata": {
    "accelerator": "GPU",
    "colab": {
      "collapsed_sections": [],
      "name": "Thumb Classification Training.ipynb",
      "provenance": []
    },
    "kernelspec": {
      "display_name": "Python 3.10.7 64-bit",
      "language": "python",
      "name": "python3"
    },
    "language_info": {
      "name": "python",
      "version": "3.10.7"
    },
    "vscode": {
      "interpreter": {
        "hash": "369f2c481f4da34e4445cda3fffd2e751bd1c4d706f27375911949ba6bb62e1c"
      }
    }
  },
  "nbformat": 4,
  "nbformat_minor": 0
}
